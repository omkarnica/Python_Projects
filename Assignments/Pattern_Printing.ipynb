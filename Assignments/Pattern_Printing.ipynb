{
 "cells": [
  {
   "cell_type": "markdown",
   "id": "c7437cbf-efbd-4f9b-be37-5d15c374e63f",
   "metadata": {},
   "source": [
    "# Python Pattern Printing Worksheet"
   ]
  },
  {
   "cell_type": "markdown",
   "id": "955fc2a5-10f7-446e-8254-2db641d67f60",
   "metadata": {},
   "source": [
    "**Question 1:Right-Angled Star Triangle**"
   ]
  },
  {
   "cell_type": "code",
   "execution_count": 8,
   "id": "c458cb23-60ef-4ea3-940b-12457c40f9f7",
   "metadata": {},
   "outputs": [],
   "source": [
    "n = 4\n"
   ]
  },
  {
   "cell_type": "raw",
   "id": "744a2be6-74bf-4632-ac9f-19cba3f15e2b",
   "metadata": {},
   "source": [
    "*\n",
    "**\n",
    "***\n",
    "****"
   ]
  },
  {
   "cell_type": "code",
   "execution_count": null,
   "id": "93880fe9-c1e9-4400-a488-ee91d2e375a9",
   "metadata": {},
   "outputs": [],
   "source": [
    "#Solution\n",
    "n = 4\n",
    "for i in range(1, n+1):\n",
    "    print(\"*\" * i)\n"
   ]
  },
  {
   "cell_type": "markdown",
   "id": "0cd281e4-0307-4465-af16-d4902d4bd8c7",
   "metadata": {},
   "source": [
    "**Question 2: Inverted Star Triangle**"
   ]
  },
  {
   "cell_type": "code",
   "execution_count": 17,
   "id": "24d4b871-366a-4a0d-963c-488b9a4f0f48",
   "metadata": {},
   "outputs": [],
   "source": [
    "n = 5"
   ]
  },
  {
   "cell_type": "raw",
   "id": "16d1c420-c90b-4fef-baee-dcb3ba8c3670",
   "metadata": {},
   "source": [
    "*****\n",
    "****\n",
    "***\n",
    "**\n",
    "*"
   ]
  },
  {
   "cell_type": "code",
   "execution_count": null,
   "id": "019d15f2-2c04-47e1-81f8-18da2bafc40f",
   "metadata": {},
   "outputs": [],
   "source": [
    "#Solution\n",
    "n = 5\n",
    "for i in range(n, 0, -1):\n",
    "    print(\"*\" * i)\n"
   ]
  },
  {
   "cell_type": "markdown",
   "id": "97b2928f-3b63-4cfc-8890-30573eb94384",
   "metadata": {},
   "source": [
    "**Question 3: Number Triangle**"
   ]
  },
  {
   "cell_type": "code",
   "execution_count": 23,
   "id": "e0ea0a28-ef03-4ebc-90bd-9a011797eb84",
   "metadata": {},
   "outputs": [],
   "source": [
    "n = 4"
   ]
  },
  {
   "cell_type": "raw",
   "id": "c7cbe173-4918-4456-8a07-4a01ea0c244f",
   "metadata": {},
   "source": [
    "1\n",
    "12\n",
    "123\n",
    "1234"
   ]
  },
  {
   "cell_type": "code",
   "execution_count": 7,
   "id": "bae5d152-ef49-48fa-9bd1-e4f6c6a66264",
   "metadata": {},
   "outputs": [
    {
     "name": "stdout",
     "output_type": "stream",
     "text": [
      "1\n",
      "12\n",
      "123\n",
      "1234\n"
     ]
    }
   ],
   "source": [
    "#Solution\n",
    "n = 4\n",
    "for i in range(1,n+1):\n",
    "    for j in range(1,i+1):\n",
    "        print(j,end='')\n",
    "    print()"
   ]
  },
  {
   "cell_type": "markdown",
   "id": "d0d2df5c-d826-4d2d-82e7-5234c05ca489",
   "metadata": {},
   "source": [
    "**Question 4:Right-Aligned Triangle**"
   ]
  },
  {
   "cell_type": "code",
   "execution_count": 28,
   "id": "440bde8d-7e7c-466d-ac6f-a2987aab5954",
   "metadata": {},
   "outputs": [],
   "source": [
    "n = 5"
   ]
  },
  {
   "cell_type": "raw",
   "id": "fed7f39a-2b8c-442d-a3bf-ee5d509af334",
   "metadata": {},
   "source": [
    "    *\n",
    "   **\n",
    "  ***\n",
    " ****\n",
    "*****"
   ]
  },
  {
   "cell_type": "code",
   "execution_count": 11,
   "id": "6f91354c-1aa8-4615-867a-c825aac470de",
   "metadata": {},
   "outputs": [
    {
     "name": "stdout",
     "output_type": "stream",
     "text": [
      "     *\n",
      "    **\n",
      "   ***\n",
      "  ****\n",
      " *****\n"
     ]
    }
   ],
   "source": [
    "#Solution\n",
    "n=5\n",
    "for i in range(1,n+1):\n",
    "    print(\" \"*(n-i),\"*\"*i)"
   ]
  },
  {
   "cell_type": "markdown",
   "id": "ad201126-5b10-4d80-b3c3-c3474baa0991",
   "metadata": {},
   "source": [
    "**Question 5: Increasing Letters**"
   ]
  },
  {
   "cell_type": "code",
   "execution_count": 36,
   "id": "15ad7005-66fe-4202-a38d-635dfe9a29e2",
   "metadata": {},
   "outputs": [],
   "source": [
    "n = 4"
   ]
  },
  {
   "cell_type": "raw",
   "id": "1d27715b-56f6-41b9-b22e-025e5e435ae7",
   "metadata": {},
   "source": [
    "A\n",
    "AB\n",
    "ABC\n",
    "ABCD"
   ]
  },
  {
   "cell_type": "code",
   "execution_count": 73,
   "id": "c3190f30-b8ba-4f9f-80fb-a4de5ec4fce9",
   "metadata": {},
   "outputs": [
    {
     "name": "stdout",
     "output_type": "stream",
     "text": [
      "A\n",
      "AB\n",
      "ABC\n",
      "ABCD\n"
     ]
    },
    {
     "data": {
      "text/plain": [
       "'A'"
      ]
     },
     "execution_count": 73,
     "metadata": {},
     "output_type": "execute_result"
    }
   ],
   "source": [
    "#Solution\n",
    "n = 4\n",
    "for i in range(1, n+1):\n",
    "    for j in range(i):\n",
    "        print(chr(65 + j), end=\"\")\n",
    "    print()\n"
   ]
  },
  {
   "cell_type": "markdown",
   "id": "08da7b2d-0d1f-47fd-aae2-1d15adef8fb2",
   "metadata": {},
   "source": [
    "**Question 6: Numbers Repeated by Row**"
   ]
  },
  {
   "cell_type": "code",
   "execution_count": 42,
   "id": "3468f931-9e1c-434e-b871-7c0d36e55f47",
   "metadata": {},
   "outputs": [],
   "source": [
    "n = 5"
   ]
  },
  {
   "cell_type": "raw",
   "id": "b885ffc6-25aa-433e-ad6d-858512585791",
   "metadata": {},
   "source": [
    "1\n",
    "22\n",
    "333\n",
    "4444\n",
    "55555"
   ]
  },
  {
   "cell_type": "code",
   "execution_count": 17,
   "id": "6fe4ab97-c29e-4338-8359-d6ad037e68e2",
   "metadata": {},
   "outputs": [
    {
     "name": "stdout",
     "output_type": "stream",
     "text": [
      "1\n",
      "22\n",
      "333\n",
      "4444\n",
      "55555\n"
     ]
    }
   ],
   "source": [
    "#Solution\n",
    "n=5\n",
    "for i in range(1,n+1):\n",
    "    print(str(i)*i)"
   ]
  },
  {
   "cell_type": "markdown",
   "id": "2bf94936-ecf7-499b-bea5-74ed2d0cef1b",
   "metadata": {},
   "source": [
    "**Question 7: Alternating 1s and 0s**"
   ]
  },
  {
   "cell_type": "code",
   "execution_count": 45,
   "id": "0a9bf9f1-8fcb-4a1d-9e24-ebf69c2538b6",
   "metadata": {},
   "outputs": [],
   "source": [
    "n = 4"
   ]
  },
  {
   "cell_type": "raw",
   "id": "76599d73-b9cc-488d-bc7c-e7a06ebff6a5",
   "metadata": {},
   "source": [
    "1\n",
    "01\n",
    "101\n",
    "0101"
   ]
  },
  {
   "cell_type": "code",
   "execution_count": 69,
   "id": "cba4136e-477c-4243-91ce-601f1cdbba26",
   "metadata": {},
   "outputs": [
    {
     "name": "stdout",
     "output_type": "stream",
     "text": [
      "1\n",
      "01\n",
      "101\n",
      "0101\n"
     ]
    }
   ],
   "source": [
    "#Solution\n",
    "n = 4\n",
    "for i in range(1, n+1):\n",
    "    for j in range(0, i):\n",
    "        print((i + j) % 2, end=\"\")\n",
    "    print()"
   ]
  },
  {
   "cell_type": "markdown",
   "id": "e49a56e1-8405-4752-88a5-1d64f076a756",
   "metadata": {},
   "source": [
    "# Assignment"
   ]
  },
  {
   "cell_type": "markdown",
   "id": "15844dff-b6eb-4e97-8e18-ca4582ea98bc",
   "metadata": {},
   "source": [
    "**Assignment 1: Centered Star Pyramid**"
   ]
  },
  {
   "cell_type": "code",
   "execution_count": 51,
   "id": "5e251b30-c999-4c9f-b591-152542bd2c6f",
   "metadata": {},
   "outputs": [],
   "source": [
    "n = 4"
   ]
  },
  {
   "cell_type": "raw",
   "id": "61e3f012-7156-4a70-af84-9c4c2ee848fd",
   "metadata": {},
   "source": [
    "   *\n",
    "  ***\n",
    " *****\n",
    "*******\n"
   ]
  },
  {
   "cell_type": "code",
   "execution_count": 21,
   "id": "01e1c2ab-9e9a-457e-8ddf-d5b6672fbcd6",
   "metadata": {},
   "outputs": [
    {
     "name": "stdout",
     "output_type": "stream",
     "text": [
      "    *\n",
      "   ***\n",
      "  *****\n",
      " *******\n"
     ]
    }
   ],
   "source": [
    "#Solution\n",
    "n=4\n",
    "for i in range(1,n+1):\n",
    "    print(' '*(n-i),'*'*(2*i-1))\n"
   ]
  },
  {
   "cell_type": "markdown",
   "id": "fb2005c0-f132-4ddb-bc4a-e95fece3ff71",
   "metadata": {},
   "source": [
    "**Assignment 2: Hollow Rectangle**"
   ]
  },
  {
   "cell_type": "markdown",
   "id": "c1ceeb7d-d4c0-443d-9262-ab71295d875b",
   "metadata": {},
   "source": [
    "rows = 4, cols = 5"
   ]
  },
  {
   "cell_type": "raw",
   "id": "b47fdf4a-5a65-4a24-acbd-c6df99d4001e",
   "metadata": {},
   "source": [
    "*****\n",
    "*   *\n",
    "*   *\n",
    "*****\n"
   ]
  },
  {
   "cell_type": "code",
   "execution_count": 37,
   "id": "5db54d22-5931-4404-aec8-16ddce38c095",
   "metadata": {},
   "outputs": [
    {
     "name": "stdout",
     "output_type": "stream",
     "text": [
      "*****\n",
      "*   *\n",
      "*   *\n",
      "*****\n"
     ]
    }
   ],
   "source": [
    "#Solution\n",
    "rows = 4\n",
    "cols = 5\n",
    "for i in range(1,rows+1):\n",
    "    if i==1 or i==rows:\n",
    "        print(\"*\"*cols)\n",
    "    else:\n",
    "        print(\"*\",\" \",\"*\")"
   ]
  },
  {
   "cell_type": "markdown",
   "id": "bb0a8550-66eb-4068-a2ae-08c320da3bd6",
   "metadata": {},
   "source": [
    "**Assignment 3: Diamond Pattern**"
   ]
  },
  {
   "cell_type": "code",
   "execution_count": 58,
   "id": "a42a0c04-32e8-4e7c-bfbc-142971c17a07",
   "metadata": {},
   "outputs": [],
   "source": [
    "n = 3"
   ]
  },
  {
   "cell_type": "raw",
   "id": "8648fd1c-4142-4b1c-99d2-db67661603ae",
   "metadata": {},
   "source": [
    "  *\n",
    " ***\n",
    "*****\n",
    " ***\n",
    "  *"
   ]
  },
  {
   "cell_type": "code",
   "execution_count": 67,
   "id": "697df625-c479-49ca-8cd4-99f086cd47ba",
   "metadata": {},
   "outputs": [
    {
     "name": "stdout",
     "output_type": "stream",
     "text": [
      "  *\n",
      " ***\n",
      "*****\n",
      " ***\n",
      "  *\n"
     ]
    }
   ],
   "source": [
    "#Solution\n",
    "n = 3\n",
    "for i in range(1, n+1):\n",
    "    print(\" \" * (n - i) + \"*\" * (2*i - 1))\n",
    "for i in range(n-1, 0, -1):\n",
    "    print(\" \" * (n - i) + \"*\" * (2*i - 1))\n",
    "    "
   ]
  },
  {
   "cell_type": "markdown",
   "id": "b15f2692-8290-4db9-a07d-fc1e66892042",
   "metadata": {},
   "source": [
    "**Assignment 4: Floyd's Triangle**"
   ]
  },
  {
   "cell_type": "code",
   "execution_count": 61,
   "id": "b90a5021-019d-41c1-b559-0d256f530677",
   "metadata": {},
   "outputs": [],
   "source": [
    "n = 4"
   ]
  },
  {
   "cell_type": "raw",
   "id": "c9da5cf9-eac2-4c3e-beb8-b54c8f791034",
   "metadata": {},
   "source": [
    "1\n",
    "2 3\n",
    "4 5 6\n",
    "7 8 9 10"
   ]
  },
  {
   "cell_type": "code",
   "execution_count": 65,
   "id": "135694a3-d1f4-4f28-9df6-f07f66fb5c48",
   "metadata": {},
   "outputs": [
    {
     "name": "stdout",
     "output_type": "stream",
     "text": [
      "1 \n",
      "2 3 \n",
      "4 5 6 \n",
      "7 8 9 10 \n"
     ]
    }
   ],
   "source": [
    "#Solution\n",
    "n = 4\n",
    "num=1\n",
    "for i in range(1,n+1):\n",
    "    for j in range(1,i+1):\n",
    "        print(num,end=\" \")\n",
    "        num+=1\n",
    "    print()"
   ]
  },
  {
   "cell_type": "code",
   "execution_count": null,
   "id": "68acb59b-a6da-42aa-bd12-a0fdcc4680db",
   "metadata": {},
   "outputs": [],
   "source": []
  }
 ],
 "metadata": {
  "kernelspec": {
   "display_name": "Python 3 (ipykernel)",
   "language": "python",
   "name": "python3"
  },
  "language_info": {
   "codemirror_mode": {
    "name": "ipython",
    "version": 3
   },
   "file_extension": ".py",
   "mimetype": "text/x-python",
   "name": "python",
   "nbconvert_exporter": "python",
   "pygments_lexer": "ipython3",
   "version": "3.11.7"
  }
 },
 "nbformat": 4,
 "nbformat_minor": 5
}

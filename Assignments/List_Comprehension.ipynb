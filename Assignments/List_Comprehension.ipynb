{
 "cells": [
  {
   "cell_type": "markdown",
   "id": "0f9c749c-52c9-4567-863d-b1965cfe0965",
   "metadata": {},
   "source": [
    "# List Comprehension"
   ]
  },
  {
   "cell_type": "markdown",
   "id": "9441f545-889f-4e31-af39-9c59cfc4eae1",
   "metadata": {},
   "source": [
    "# SECTION 1: What is List Comprehension?"
   ]
  },
  {
   "cell_type": "markdown",
   "id": "521cc0c9-cf1c-4d6e-9561-1f9951589660",
   "metadata": {},
   "source": [
    "\"\"\"\n",
    "List comprehension is a Pythonic way to generate new lists by transforming, filtering, or flattening existing iterables using a single, readable line of code.\n",
    "\n",
    "### Syntax:\n",
    "    [expression for item in iterable if condition]\n",
    "\n",
    "### Components:\n",
    "- **expression**: the value to store in the new list\n",
    "- **item**: the variable that takes the value of each element in the iterable\n",
    "- **iterable**: a sequence (e.g., list, range, string)\n",
    "- **condition (optional)**: filters elements from the iterable\n",
    "\n",
    "### Properties:\n",
    "- **Concise**: Reduces the lines of code\n",
    "- **Readable**: Easier to understand for simple transformations\n",
    "- **Faster**: Internally optimized compared to loops\n",
    "- **Combinable**: Works with nested loops, conditions, and function calls\n",
    "\n",
    "### 🔁 Equivalent to:\n",
    "List comprehension:\n",
    "    [x*x for x in range(5) if x % 2 == 0]\n",
    "    \n",
    "Loop equivalent:\n",
    "\n",
    "    result = []\n",
    "    for x in range(5):\n",
    "        if x % 2 == 0:\n",
    "            result.append(x*x)\n",
    "\"\"\""
   ]
  },
  {
   "cell_type": "markdown",
   "id": "f1d14337-3c2a-4b5e-91ed-0230daf1da01",
   "metadata": {},
   "source": [
    "# 🔠 Python `str.is*()` Methods — Full Reference\n",
    "\n",
    "| Method         | Description                                                                 | Example                      | Returns |\n",
    "|----------------|-----------------------------------------------------------------------------|------------------------------|---------|\n",
    "| `isalpha()`    | Returns `True` if all characters are alphabets (A–Z or a–z)                 | `\"Python\".isalpha()`         | `True`  |\n",
    "| `isdigit()`    | Returns `True` if all characters are digits (0–9)                           | `\"12345\".isdigit()`          | `True`  |\n",
    "| `isalnum()`    | Returns `True` if all characters are alphanumeric (A–Z, a–z, 0–9)           | `\"abc123\".isalnum()`         | `True`  |\n",
    "| `isdecimal()`  | Returns `True` if all characters are decimal characters (0–9)               | `\"234\".isdecimal()`          | `True`  |\n",
    "| `isnumeric()`  | Returns `True` if all characters are numeric (includes fractions, superscripts, etc.) | `\"Ⅻ\".isnumeric()`  | `True`  |\n",
    "| `islower()`    | Returns `True` if all cased characters are lowercase                        | `\"hello\".islower()`          | `True`  |\n",
    "| `isupper()`    | Returns `True` if all cased characters are uppercase                        | `\"HELLO\".isupper()`          | `True`  |\n",
    "| `istitle()`    | Returns `True` if string is in title case (e.g., First Letter Capitalized)  | `\"Hello World\".istitle()`    | `True`  |\n",
    "| `isspace()`    | Returns `True` if all characters are whitespace                             | `\"   \".isspace()`            | `True`  |\n",
    "| `isidentifier()` | Returns `True` if string is a valid Python identifier (e.g., variable name) | `\"my_var1\".isidentifier()` | `True`  |\n",
    "| `isprintable()` | Returns `True` if all characters are printable                             | `\"Hello123!\".isprintable()`  | `True`  |\n",
    "| `isascii()`    | Returns `True` if all characters are ASCII (0–127)                          | `\"Hello!\".isascii()`         | `True`  |\n",
    "\n"
   ]
  },
  {
   "cell_type": "markdown",
   "id": "2ebc177c-5015-4dda-8dd9-c0fe9a077a4c",
   "metadata": {},
   "source": [
    "# SECTION 2: Basic Practice Questions"
   ]
  },
  {
   "cell_type": "code",
   "execution_count": 12,
   "id": "61a252f0-1fa1-4378-aefc-0132c9e97ac4",
   "metadata": {},
   "outputs": [
    {
     "name": "stdout",
     "output_type": "stream",
     "text": [
      "Even Numbers: [0, 2, 4, 6, 8, 10, 12, 14, 16, 18, 20]\n"
     ]
    }
   ],
   "source": [
    "# 1. Create a list of even numbers from 0 to 20\n",
    "even_numbers = [x for x in range(21) if x % 2 == 0]\n",
    "print(\"Even Numbers:\", even_numbers)"
   ]
  },
  {
   "cell_type": "code",
   "execution_count": 12,
   "id": "ef4abce0-982e-4867-a00a-1f81ecadad69",
   "metadata": {},
   "outputs": [
    {
     "name": "stdout",
     "output_type": "stream",
     "text": [
      "Uppercase Words: ['PYTHON', 'DATA', 'SCIENCE']\n"
     ]
    }
   ],
   "source": [
    "\n",
    "# 2. Convert a list of strings to uppercase\n",
    "words = ['python', 'data', 'science']\n",
    "upper_words = [word.upper() for word in words]\n",
    "print(\"Uppercase Words:\", upper_words)\n"
   ]
  },
  {
   "cell_type": "code",
   "execution_count": 14,
   "id": "e44174fb-1fa6-423d-81d1-fcceb115860c",
   "metadata": {},
   "outputs": [
    {
     "name": "stdout",
     "output_type": "stream",
     "text": [
      "Odd Squares: [1, 9, 25, 49, 81]\n"
     ]
    }
   ],
   "source": [
    "\n",
    "# 3. Get square of all odd numbers from 1 to 10\n",
    "odd_squares = [x**2 for x in range(1, 11) if x % 2 != 0]\n",
    "print(\"Odd Squares:\", odd_squares)\n"
   ]
  },
  {
   "cell_type": "code",
   "execution_count": 16,
   "id": "6bbb5290-0f33-40f5-b64d-005cf922e942",
   "metadata": {},
   "outputs": [
    {
     "name": "stdout",
     "output_type": "stream",
     "text": [
      "Digits: ['1', '2', '3']\n"
     ]
    }
   ],
   "source": [
    "\n",
    "# 4. Extract digits from a string\n",
    "data = \"abc123xyz\"\n",
    "digits = [char for char in data if char.isdigit()]\n",
    "print(\"Digits:\", digits)\n"
   ]
  },
  {
   "cell_type": "markdown",
   "id": "74ea95ad-ce97-4d2d-b98a-8d18a0d3903f",
   "metadata": {},
   "source": [
    "# SECTION 3: Intermediate Use Cases"
   ]
  },
  {
   "cell_type": "code",
   "execution_count": 19,
   "id": "9a50e750-e40e-4167-8cd3-d4ad960a54c1",
   "metadata": {},
   "outputs": [
    {
     "name": "stdout",
     "output_type": "stream",
     "text": [
      "Words starting with 'd': ['data', 'developer']\n"
     ]
    }
   ],
   "source": [
    "# 5. Filter words starting with 'd'\n",
    "words = ['data', 'python', 'developer', 'science']\n",
    "d_words = [word for word in words if word.startswith('d')]\n",
    "print(\"Words starting with 'd':\", d_words)\n"
   ]
  },
  {
   "cell_type": "code",
   "execution_count": 21,
   "id": "dec98ae9-3ee5-4fe5-a795-7785e058893d",
   "metadata": {},
   "outputs": [
    {
     "name": "stdout",
     "output_type": "stream",
     "text": [
      "Tuple of (x, x^2): [(1, 1), (2, 4), (3, 9), (4, 16), (5, 25), (6, 36), (7, 49), (8, 64), (9, 81), (10, 100)]\n"
     ]
    }
   ],
   "source": [
    "\n",
    "# 6. Create a list of (number, square) tuples for 1 to 10\n",
    "tuple_list = [(x, x**2) for x in range(1, 11)]\n",
    "print(\"Tuple of (x, x^2):\", tuple_list)\n"
   ]
  },
  {
   "cell_type": "code",
   "execution_count": 23,
   "id": "875ac212-b64e-4f9e-a4c7-b1712aedf9e5",
   "metadata": {},
   "outputs": [
    {
     "name": "stdout",
     "output_type": "stream",
     "text": [
      "No Negatives: [0, 3, 0, 7, 0]\n"
     ]
    }
   ],
   "source": [
    "\n",
    "# 7. Replace all negative numbers with 0 in a list\n",
    "nums = [-5, 3, -2, 7, -1]\n",
    "cleaned = [x if x > 0 else 0 for x in nums]\n",
    "print(\"No Negatives:\", cleaned)"
   ]
  },
  {
   "cell_type": "markdown",
   "id": "c086ef09-052f-4805-acaa-d7a2ccff9510",
   "metadata": {},
   "source": [
    "# SECTION 4: Nested List Comprehensions"
   ]
  },
  {
   "cell_type": "code",
   "execution_count": 26,
   "id": "428bee09-63e4-41c8-905f-741c1add1152",
   "metadata": {},
   "outputs": [
    {
     "name": "stdout",
     "output_type": "stream",
     "text": [
      "Flattened List: [1, 2, 3, 4, 5, 6, 7, 8, 9]\n"
     ]
    }
   ],
   "source": [
    "\n",
    "# 8. Flatten a 2D list into a 1D list\n",
    "matrix = [[1, 2, 3], [4, 5, 6], [7, 8, 9]]\n",
    "flattened = [num for row in matrix for num in row]\n",
    "print(\"Flattened List:\", flattened)\n",
    "\n"
   ]
  },
  {
   "cell_type": "code",
   "execution_count": 28,
   "id": "0b4b6502-7421-484f-9c23-4efdfd6ba250",
   "metadata": {},
   "outputs": [
    {
     "name": "stdout",
     "output_type": "stream",
     "text": [
      "Transposed Matrix: [[1, 4, 7], [2, 5, 8], [3, 6, 9]]\n"
     ]
    }
   ],
   "source": [
    "# 9. Transpose a 2D matrix\n",
    "matrix = [[1, 2, 3], [4, 5, 6], [7, 8, 9]]\n",
    "transposed = [[row[i] for row in matrix] for i in range(len(matrix[0]))]\n",
    "print(\"Transposed Matrix:\", transposed)\n"
   ]
  },
  {
   "cell_type": "code",
   "execution_count": 30,
   "id": "f9b2eb6b-06d9-448a-bf62-8bbcbf82cc86",
   "metadata": {},
   "outputs": [
    {
     "name": "stdout",
     "output_type": "stream",
     "text": [
      "Multiplication Table: [[1, 2, 3, 4, 5], [2, 4, 6, 8, 10], [3, 6, 9, 12, 15], [4, 8, 12, 16, 20], [5, 10, 15, 20, 25]]\n"
     ]
    }
   ],
   "source": [
    "\n",
    "# 10. Create a multiplication table (1 to 5)\n",
    "table = [[i*j for j in range(1, 6)] for i in range(1, 6)]\n",
    "print(\"Multiplication Table:\", table)"
   ]
  },
  {
   "cell_type": "markdown",
   "id": "01da0718-c13e-4e61-87bb-b6d1e12769eb",
   "metadata": {},
   "source": [
    "# SECTION 5: Assignments"
   ]
  },
  {
   "cell_type": "code",
   "execution_count": 33,
   "id": "dcf858fb-8046-49f6-971f-a254a75a0c9e",
   "metadata": {},
   "outputs": [],
   "source": [
    "# Assignment 1:\n",
    "# Create a list of all numbers from 1 to 100 that are divisible by both 3 and 5\n",
    "# Expected: [15, 30, 45, ..., 90]"
   ]
  },
  {
   "cell_type": "code",
   "execution_count": 1,
   "id": "d599e686-e46d-427a-badd-03b9abb573ac",
   "metadata": {},
   "outputs": [
    {
     "name": "stdout",
     "output_type": "stream",
     "text": [
      "[15, 30, 45, 60, 75, 90]\n"
     ]
    }
   ],
   "source": [
    "#Solution1\n",
    "res=[i for i in range(1,100) if i%3==0 and i%5==0]\n",
    "print(res)"
   ]
  },
  {
   "cell_type": "code",
   "execution_count": 39,
   "id": "0e54f822-1389-49ec-ab6c-ef178352c4ab",
   "metadata": {},
   "outputs": [],
   "source": [
    "# Assignment 2:\n",
    "# Remove all vowels from a given sentence using list comprehension\n",
    "sentence = \"List comprehension makes life easier\"\n",
    "vowels = \"aeiouAEIOU\""
   ]
  },
  {
   "cell_type": "code",
   "execution_count": 19,
   "id": "800a6317-dcf1-4728-b488-691713376865",
   "metadata": {},
   "outputs": [
    {
     "name": "stdout",
     "output_type": "stream",
     "text": [
      "Lst cmprhnsn mks lf sr\n"
     ]
    }
   ],
   "source": [
    "#Solution2\n",
    "sentence = \"List comprehension makes life easier\"\n",
    "vowels = \"aeiouAEIOU\"\n",
    "# new_sentence=\"\"                                       without list comprehension \n",
    "# for s in sentence:\n",
    "#     if s not in vowels:\n",
    "#         new_sentence=new_sentence+s\n",
    "\n",
    "new_sentence=[s for s in sentence if s not in vowels]  # with list comprehension \n",
    "res = ''.join(new_sentence)\n",
    "print(res)"
   ]
  },
  {
   "cell_type": "code",
   "execution_count": 14,
   "id": "a48a6aed-feac-4283-a90d-86070c19ddb8",
   "metadata": {},
   "outputs": [],
   "source": [
    "# Assignment 3:\n",
    "# Create a 3x3 identity matrix using list comprehension"
   ]
  },
  {
   "cell_type": "code",
   "execution_count": 18,
   "id": "6e9fb040-7f66-4e16-a8ed-8859b4948367",
   "metadata": {},
   "outputs": [
    {
     "name": "stdout",
     "output_type": "stream",
     "text": [
      "[[1, 0, 0], [0, 1, 0], [0, 0, 1]]\n"
     ]
    }
   ],
   "source": [
    "#Solution3\n",
    "mat=[]\n",
    "# for i in range(3):                                                without list comprehension \n",
    "#     mat.append([])\n",
    "#     for j in range(3):\n",
    "#         if i==j:\n",
    "#             mat[i].append(1)\n",
    "#         else:\n",
    "#             mat[i].append(0)\n",
    "\n",
    "res=[[1 if i==j else 0 for i in range(3)] for j in range(3)]         # with list comprehension \n",
    "print(res)\n",
    "# print(mat)"
   ]
  },
  {
   "cell_type": "code",
   "execution_count": 43,
   "id": "481ccaf6-9d82-42ba-bac8-b043c3c5ae50",
   "metadata": {},
   "outputs": [],
   "source": [
    "# Assignment 4:\n",
    "# From a nested list of integers, flatten and filter out only even numbers\n",
    "nested = [[1,2,3],[4,5,6],[7,8,9]]\n"
   ]
  },
  {
   "cell_type": "code",
   "execution_count": 49,
   "id": "75ead63e-df21-450c-b401-ca9d6cdc3aef",
   "metadata": {},
   "outputs": [
    {
     "name": "stdout",
     "output_type": "stream",
     "text": [
      "[2, 4, 6, 8]\n"
     ]
    }
   ],
   "source": [
    "#Solution4\n",
    "\n",
    "nested = [[1,2,3],[4,5,6],[7,8,9]]\n",
    "nested_even=[n for l in nested for n in l if n%2==0]\n",
    "print(nested_even)"
   ]
  },
  {
   "cell_type": "code",
   "execution_count": 20,
   "id": "f8694b25-93b4-4897-80d4-7b030e69d669",
   "metadata": {},
   "outputs": [],
   "source": [
    "#5. Extract all integers from a nested list of mixed types (str, list, int)\n",
    "data = [1, 'a', [2, 'b', [3, 'c'], 4], 'd', [5, 6]]"
   ]
  },
  {
   "cell_type": "code",
   "execution_count": 24,
   "id": "8eadf447-e2d5-414a-abea-e2c66c329c46",
   "metadata": {},
   "outputs": [
    {
     "name": "stdout",
     "output_type": "stream",
     "text": [
      "[1, 2, 3, 4, 5, 6]\n"
     ]
    }
   ],
   "source": [
    "# Solution5\n",
    "\n",
    "def extract_integers(nested_list):\n",
    "    return [x for item in nested_list for x in \n",
    "            (extract_integers(item) if isinstance(item, list) else [item] if isinstance(item, int) else [])]\n",
    "\n",
    "data = [1, 'a', [2, 'b', [3, 'c'], 4], 'd', [5, 6]]\n",
    "print(extract_integers(data))"
   ]
  },
  {
   "cell_type": "code",
   "execution_count": 49,
   "id": "d693f789-de64-4e99-b501-f5f0cdc417ea",
   "metadata": {},
   "outputs": [],
   "source": [
    "# 6. Deep flattening a list \n",
    "\n",
    "nested_deep = [1, [2, [3, [4, 5]], 6], 7]\n"
   ]
  },
  {
   "cell_type": "code",
   "execution_count": 30,
   "id": "3755a7eb-1868-47d4-bb6c-09800e74cb7b",
   "metadata": {},
   "outputs": [
    {
     "name": "stdout",
     "output_type": "stream",
     "text": [
      "[1, 2, 3, 4, 5, 6, 7]\n"
     ]
    }
   ],
   "source": [
    "#Solution6\n",
    "def deep_flatten(nested_list):\n",
    "    return[x for item in nested_list for x in (deep_flatten(item) if isinstance(item,list) else [item]) ]\n",
    "\n",
    "nested_deep = [1, [2, [3, [[4], 5]], 6], 7]\n",
    "print(deep_flatten(nested_deep))"
   ]
  },
  {
   "cell_type": "code",
   "execution_count": 32,
   "id": "2103fcdd-57b3-4d06-b8b8-fc71c9188213",
   "metadata": {},
   "outputs": [],
   "source": [
    "# 7. Replace all odd numbers in a matrix with -1 using nested list comprehension\n",
    "matrix = [[1, 2, 3], [4, 5, 6], [7, 8, 9]]\n"
   ]
  },
  {
   "cell_type": "code",
   "execution_count": 42,
   "id": "7072c230-a825-419e-a145-8a465a7fb944",
   "metadata": {},
   "outputs": [
    {
     "name": "stdout",
     "output_type": "stream",
     "text": [
      "[[-1, 2, -1], [4, -1, 6], [-1, 8, -1]]\n"
     ]
    }
   ],
   "source": [
    "#Solution7\n",
    "matrix = [[1, 2, 3], [4, 5, 6], [7, 8, 9]]\n",
    "\n",
    "\n",
    "res=[[m if m%2==0 else (-1) for m in list] for list in matrix ]\n",
    "print(res)"
   ]
  },
  {
   "cell_type": "code",
   "execution_count": 51,
   "id": "4a6a4189-bbaa-461e-bf31-f479631ce379",
   "metadata": {},
   "outputs": [],
   "source": [
    "# 8. Generate a 5x5 matrix with values as the sum of row and column indices"
   ]
  },
  {
   "cell_type": "code",
   "execution_count": 61,
   "id": "3319249f-c087-4fe8-b8ff-01e1e09c26b3",
   "metadata": {},
   "outputs": [
    {
     "name": "stdout",
     "output_type": "stream",
     "text": [
      "[[0, 1, 2, 3, 4], [1, 2, 3, 4, 5], [2, 3, 4, 5, 6], [3, 4, 5, 6, 7], [4, 5, 6, 7, 8]]\n"
     ]
    }
   ],
   "source": [
    "res=[[i+j for i in range(5)] for j in range(5)]\n",
    "print(res)"
   ]
  }
 ],
 "metadata": {
  "kernelspec": {
   "display_name": "Python 3 (ipykernel)",
   "language": "python",
   "name": "python3"
  },
  "language_info": {
   "codemirror_mode": {
    "name": "ipython",
    "version": 3
   },
   "file_extension": ".py",
   "mimetype": "text/x-python",
   "name": "python",
   "nbconvert_exporter": "python",
   "pygments_lexer": "ipython3",
   "version": "3.11.7"
  }
 },
 "nbformat": 4,
 "nbformat_minor": 5
}

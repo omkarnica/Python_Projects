{
  "cells": [
    {
      "cell_type": "markdown",
      "id": "ca970278-bb2c-488a-891b-277554550e50",
      "metadata": {
        "id": "ca970278-bb2c-488a-891b-277554550e50"
      },
      "source": [
        "# OOPS- Practice Set"
      ]
    },
    {
      "cell_type": "markdown",
      "id": "e015839a-f6b9-41b6-9133-5a49534044ba",
      "metadata": {
        "id": "e015839a-f6b9-41b6-9133-5a49534044ba"
      },
      "source": [
        "## Question 1: Gym Membership System\n",
        "\n",
        "**Scenario:**\n",
        "\n",
        "A neighborhood gym wants to digitize its member registration. Every member has a name and age. The gym has a fixed joining fee for all members. Also, anyone below the age of 13 is not allowed to join.\n",
        "\n",
        "**Tasks:**\n",
        "\n",
        "1. Design a way to represent a member in this system.\n",
        "\n",
        "2. Store the member's name and age.\n",
        "\n",
        "3. Ensure the system prevents anyone under 13 from being added.\n",
        "\n",
        "4. There should be a way to view the member's details including their fee.\n"
      ]
    },
    {
      "cell_type": "code",
      "source": [
        "class GymMember:\n",
        "  joining_fee=500\n",
        "  def __init__(self,name,age):\n",
        "    if age<13:\n",
        "      print(\"Should Not Be Allowed\")\n",
        "    else:\n",
        "      self.name=name\n",
        "      self.age=age\n",
        "\n",
        "  def details(self):\n",
        "    return print(f\"Name: {self.name}, Age: {self.age}, Fee: {self.joining_fee}\")\n",
        "\n"
      ],
      "metadata": {
        "id": "P569LFx2Wiba"
      },
      "id": "P569LFx2Wiba",
      "execution_count": null,
      "outputs": []
    },
    {
      "cell_type": "code",
      "execution_count": null,
      "id": "6a2e0a4f-6531-47dd-8fc9-53bdb60c67b9",
      "metadata": {
        "id": "6a2e0a4f-6531-47dd-8fc9-53bdb60c67b9",
        "colab": {
          "base_uri": "https://localhost:8080/"
        },
        "outputId": "8ea93737-f94e-45b9-fe5f-c1a436c53474"
      },
      "outputs": [
        {
          "output_type": "stream",
          "name": "stdout",
          "text": [
            "Name: Rohit, Age: 25, Fee: 500\n",
            "None\n",
            "Should Not Be Allowed\n",
            "True\n"
          ]
        }
      ],
      "source": [
        "# Test\n",
        "\n",
        "# Should work fine\n",
        "m1 = GymMember(\"Rohit\", 25)\n",
        "print(m1.details())  # Expected: Name: Rohit, Age: 25, Fee: 500\n",
        "\n",
        "# Should raise an error\n",
        "m2 = GymMember(\"Ankit\", 10)  # Should not be allowed\n",
        "\n",
        "# Check if fee is same for all\n",
        "m3 = GymMember(\"Sonal\", 30)\n",
        "print(m1.joining_fee == m3.joining_fee)  # Expected: True\n"
      ]
    },
    {
      "cell_type": "markdown",
      "id": "91f85348-8a0a-4ba7-bfb8-a3b17d8a1dc9",
      "metadata": {
        "id": "91f85348-8a0a-4ba7-bfb8-a3b17d8a1dc9"
      },
      "source": [
        "## Question 2: Employee Bonus Calculator\n",
        "\n",
        "**Scenario:**\n",
        "\n",
        "A company is planning to automate bonus calculations. Every employee has a name, salary, and a performance score. If the score is more than 80, they get a 10% bonus. Salaries must always be positive, and scores should not exceed 100.\n",
        "\n",
        "**Tasks:**\n",
        "\n",
        "1. Represent employees with relevant information.\n",
        "\n",
        "2. Ensure salaries are always valid.\n",
        "\n",
        "3. Ensure scores are within limits.\n",
        "\n",
        "4. There should be a way to compute the bonus for an employee."
      ]
    },
    {
      "cell_type": "code",
      "source": [
        "class Employee:\n",
        "  def __init__(self,name,salary,score):\n",
        "    if salary>0 and score<=100:\n",
        "      self.name=name\n",
        "      self.salary=salary\n",
        "      self.score=score\n",
        "\n",
        "    else:\n",
        "      print(\"Invalid Salary or Score\")\n",
        "\n",
        "\n",
        "  def calculate_bonus(self):\n",
        "    if self.score>80:\n",
        "      return 0.1*self.salary\n",
        "    else:\n",
        "      return 0\n"
      ],
      "metadata": {
        "id": "nIEv7yh6bR0Y"
      },
      "id": "nIEv7yh6bR0Y",
      "execution_count": null,
      "outputs": []
    },
    {
      "cell_type": "code",
      "execution_count": null,
      "id": "818dc7c8-528c-4c1d-9e15-de6c0f3746e7",
      "metadata": {
        "id": "818dc7c8-528c-4c1d-9e15-de6c0f3746e7",
        "colab": {
          "base_uri": "https://localhost:8080/"
        },
        "outputId": "25a76345-bf73-4cd2-edf6-05b9511e7c6e"
      },
      "outputs": [
        {
          "output_type": "stream",
          "name": "stdout",
          "text": [
            "5000.0\n",
            "0\n",
            "Invalid Salary or Score\n",
            "Invalid Salary or Score\n"
          ]
        }
      ],
      "source": [
        "# Test Conditions\n",
        "\n",
        "e1 = Employee(\"Neha\", 50000, 85)\n",
        "print(e1.calculate_bonus())  # Expected: 5000.0\n",
        "\n",
        "e2 = Employee(\"Amit\", 60000, 60)\n",
        "print(e2.calculate_bonus())  # Expected: 0.0\n",
        "\n",
        "# Invalid salary or score\n",
        "e3 = Employee(\"John\", -40000, 75)  # Should raise error\n",
        "e4 = Employee(\"Kiran\", 40000, 120)  # Should raise error"
      ]
    },
    {
      "cell_type": "markdown",
      "id": "74a48785-115b-4479-a223-a4e43e387aea",
      "metadata": {
        "id": "74a48785-115b-4479-a223-a4e43e387aea"
      },
      "source": [
        "## Question 3: Book Lending Tracker\n",
        "\n",
        "**Scenario:**\n",
        "\n",
        "A small library wants a system to manage books. Each book has a title and an author. By default, books are marked as available. When a book is given to someone, its status should change to unavailable.\n",
        "\n",
        "**Tasks:**\n",
        "\n",
        "1. Create a way to represent books in the system.\n",
        "2. Store title and author.\n",
        "3. Maintain a status that shows whether the book is available.\n",
        "4. Allow status to be updated when a book is issued.\n",
        "5. There should be a way to see book info including availability."
      ]
    },
    {
      "cell_type": "code",
      "source": [
        "class Book:\n",
        "  status= True\n",
        "  def __init__(self,title,author):\n",
        "    self.title=title\n",
        "    self.author=author\n",
        "\n",
        "  def issue_book(self):\n",
        "    self.status=False\n",
        "\n",
        "  def info(self):\n",
        "    if self.status== True:\n",
        "      print(\"Available: True\")\n",
        "    else:\n",
        "      print(\"Available: False\")"
      ],
      "metadata": {
        "id": "3UwCjciBjan8"
      },
      "id": "3UwCjciBjan8",
      "execution_count": null,
      "outputs": []
    },
    {
      "cell_type": "code",
      "execution_count": null,
      "id": "77bb08b7-3efa-4762-ae5a-ccb311147afe",
      "metadata": {
        "id": "77bb08b7-3efa-4762-ae5a-ccb311147afe",
        "colab": {
          "base_uri": "https://localhost:8080/"
        },
        "outputId": "08772631-c382-43e7-90a0-c264554a0188"
      },
      "outputs": [
        {
          "output_type": "stream",
          "name": "stdout",
          "text": [
            "Available: True\n",
            "None\n",
            "Available: False\n",
            "None\n",
            "Available: True\n",
            "None\n"
          ]
        }
      ],
      "source": [
        "b1 = Book(\"Wings of Fire\", \"A.P.J Abdul Kalam\")\n",
        "print(b1.info())  # Expected to include \"Available: True\"\n",
        "\n",
        "b1.issue_book()\n",
        "print(b1.info())  # Expected to include \"Available: False\"\n",
        "\n",
        "# Create another book\n",
        "b2 = Book(\"1984\", \"George Orwell\")\n",
        "print(b2.info())  # Should still be available"
      ]
    },
    {
      "cell_type": "markdown",
      "id": "5ce5daa7-3331-425d-b035-015831817a7b",
      "metadata": {
        "id": "5ce5daa7-3331-425d-b035-015831817a7b"
      },
      "source": [
        "# Question 4: Student Progress Tracker\n",
        "\n",
        "**Scenario:**\n",
        "\n",
        "You are building a progress tracker for students in an online learning app. Every student has a name and a unique ID. Each student can enroll in multiple courses, mark courses as completed, and calculate the percentage of courses completed. You also want to keep track of how many students have been created in total.\n",
        "\n",
        "**Tasks:**\n",
        "\n",
        "1. Represent each student with a name and unique student ID.\n",
        "2. Keep track of all the courses they enroll in (store inside each student).\n",
        "3. Maintain a count of how many students exist (shared across all).\n",
        "4. Allow:\n",
        "   a) Enrolling in a new course.\n",
        "   b) Marking a course as completed.\n",
        "   c) Getting all completed courses.\n",
        "   d) Calculating percent completion.\n",
        "\n"
      ]
    },
    {
      "cell_type": "code",
      "source": [
        "class Student:\n",
        "  count=0\n",
        "  def __init__(self,name,id) :\n",
        "    self.name=name\n",
        "    self.id=id\n",
        "    self.course={}\n",
        "    self.course_count=0\n",
        "    self.completed_course_count=0\n",
        "    Student.count+=1\n",
        "\n",
        "  def enroll(self,course):\n",
        "    self.course[course]=0\n",
        "\n",
        "  def complete(self,course):\n",
        "    self.course[course]=1\n",
        "\n",
        "  def get_completed_courses(self):\n",
        "    res=[]\n",
        "\n",
        "    for k,p in self.course.items():\n",
        "      if p==1:\n",
        "        res.append(k)\n",
        "    return res\n",
        "\n",
        "  def completion_rate(self):\n",
        "    self.course_count = 0\n",
        "    self.completed_course_count = 0\n",
        "\n",
        "    for k,p in self.course.items():\n",
        "      self.course_count+=1\n",
        "      if p==1:\n",
        "        self.completed_course_count+=1\n",
        "\n",
        "    return self.completed_course_count/self.course_count*100\n",
        "\n",
        "\n",
        "  @staticmethod\n",
        "\n",
        "  def total_students():\n",
        "    return Student.count\n",
        "\n"
      ],
      "metadata": {
        "id": "mjFV-Ddk08l7"
      },
      "id": "mjFV-Ddk08l7",
      "execution_count": 20,
      "outputs": []
    },
    {
      "cell_type": "code",
      "execution_count": 21,
      "id": "02b131b6-1d24-471b-8583-3a5de1c376aa",
      "metadata": {
        "id": "02b131b6-1d24-471b-8583-3a5de1c376aa",
        "colab": {
          "base_uri": "https://localhost:8080/"
        },
        "outputId": "b28d9993-f254-48e2-f214-b893d8df7dc4"
      },
      "outputs": [
        {
          "output_type": "stream",
          "name": "stdout",
          "text": [
            "['Python', 'SQL']\n",
            "66.66666666666666\n",
            "2\n"
          ]
        }
      ],
      "source": [
        "# Test\n",
        "\n",
        "s1 = Student(\"Aarav\", \"STU001\")\n",
        "s2 = Student(\"Tanya\", \"STU002\")\n",
        "\n",
        "# Enroll courses\n",
        "s1.enroll(\"Python\")\n",
        "s1.enroll(\"Data Science\")\n",
        "s1.enroll(\"SQL\")\n",
        "\n",
        "# Mark some as completed\n",
        "s1.complete(\"Python\")\n",
        "s1.complete(\"SQL\")\n",
        "\n",
        "print(s1.get_completed_courses())\n",
        "# ✅ ['Python', 'SQL']\n",
        "\n",
        "print(s1.completion_rate())\n",
        "# ✅ 66.67%\n",
        "\n",
        "print(Student.total_students())\n",
        "# ✅ 2"
      ]
    },
    {
      "cell_type": "code",
      "execution_count": null,
      "id": "537daa24-860f-4951-a638-6aebcfb6afc8",
      "metadata": {
        "id": "537daa24-860f-4951-a638-6aebcfb6afc8"
      },
      "outputs": [],
      "source": []
    }
  ],
  "metadata": {
    "kernelspec": {
      "display_name": "Python [conda env:base] *",
      "language": "python",
      "name": "conda-base-py"
    },
    "language_info": {
      "codemirror_mode": {
        "name": "ipython",
        "version": 3
      },
      "file_extension": ".py",
      "mimetype": "text/x-python",
      "name": "python",
      "nbconvert_exporter": "python",
      "pygments_lexer": "ipython3",
      "version": "3.12.7"
    },
    "colab": {
      "provenance": []
    }
  },
  "nbformat": 4,
  "nbformat_minor": 5
}